{
 "cells": [
  {
   "cell_type": "markdown",
   "metadata": {},
   "source": [
    "# Intro to Recommender Systems Lab\n",
    "\n",
    "Complete the exercises below to solidify your knowledge and understanding of recommender systems.\n",
    "\n",
    "For this lab, we are going to be putting together a user similarity based recommender system in a step-by-step fashion. Our data set contains customer grocery purchases, and we will use similar purchase behavior to inform our recommender system. Our recommender system will generate 5 recommendations for each customer based on the purchases they have made."
   ]
  },
  {
   "cell_type": "code",
   "execution_count": 1,
   "metadata": {
    "ExecuteTime": {
     "end_time": "2020-04-07T11:14:17.706610Z",
     "start_time": "2020-04-07T11:14:17.102206Z"
    }
   },
   "outputs": [],
   "source": [
    "import pandas as pd\n",
    "from scipy.spatial.distance import pdist, squareform"
   ]
  },
  {
   "cell_type": "code",
   "execution_count": 2,
   "metadata": {
    "ExecuteTime": {
     "end_time": "2020-04-07T11:14:19.105984Z",
     "start_time": "2020-04-07T11:14:17.708577Z"
    }
   },
   "outputs": [],
   "source": [
    "data = pd.read_csv(\"../data/customer-product-sales.csv\")"
   ]
  },
  {
   "cell_type": "code",
   "execution_count": 3,
   "metadata": {
    "ExecuteTime": {
     "end_time": "2020-04-07T11:14:19.131771Z",
     "start_time": "2020-04-07T11:14:19.107834Z"
    }
   },
   "outputs": [
    {
     "data": {
      "text/html": [
       "<div>\n",
       "<style scoped>\n",
       "    .dataframe tbody tr th:only-of-type {\n",
       "        vertical-align: middle;\n",
       "    }\n",
       "\n",
       "    .dataframe tbody tr th {\n",
       "        vertical-align: top;\n",
       "    }\n",
       "\n",
       "    .dataframe thead th {\n",
       "        text-align: right;\n",
       "    }\n",
       "</style>\n",
       "<table border=\"1\" class=\"dataframe\">\n",
       "  <thead>\n",
       "    <tr style=\"text-align: right;\">\n",
       "      <th></th>\n",
       "      <th>CustomerID</th>\n",
       "      <th>FirstName</th>\n",
       "      <th>LastName</th>\n",
       "      <th>SalesID</th>\n",
       "      <th>ProductID</th>\n",
       "      <th>ProductName</th>\n",
       "      <th>Quantity</th>\n",
       "    </tr>\n",
       "  </thead>\n",
       "  <tbody>\n",
       "    <tr>\n",
       "      <th>0</th>\n",
       "      <td>61288</td>\n",
       "      <td>Rosa</td>\n",
       "      <td>Andersen</td>\n",
       "      <td>134196</td>\n",
       "      <td>229</td>\n",
       "      <td>Bread - Hot Dog Buns</td>\n",
       "      <td>16</td>\n",
       "    </tr>\n",
       "    <tr>\n",
       "      <th>1</th>\n",
       "      <td>77352</td>\n",
       "      <td>Myron</td>\n",
       "      <td>Murray</td>\n",
       "      <td>6167892</td>\n",
       "      <td>229</td>\n",
       "      <td>Bread - Hot Dog Buns</td>\n",
       "      <td>20</td>\n",
       "    </tr>\n",
       "    <tr>\n",
       "      <th>2</th>\n",
       "      <td>40094</td>\n",
       "      <td>Susan</td>\n",
       "      <td>Stevenson</td>\n",
       "      <td>5970885</td>\n",
       "      <td>229</td>\n",
       "      <td>Bread - Hot Dog Buns</td>\n",
       "      <td>11</td>\n",
       "    </tr>\n",
       "    <tr>\n",
       "      <th>3</th>\n",
       "      <td>23548</td>\n",
       "      <td>Tricia</td>\n",
       "      <td>Vincent</td>\n",
       "      <td>6426954</td>\n",
       "      <td>229</td>\n",
       "      <td>Bread - Hot Dog Buns</td>\n",
       "      <td>6</td>\n",
       "    </tr>\n",
       "    <tr>\n",
       "      <th>4</th>\n",
       "      <td>78981</td>\n",
       "      <td>Scott</td>\n",
       "      <td>Burch</td>\n",
       "      <td>819094</td>\n",
       "      <td>229</td>\n",
       "      <td>Bread - Hot Dog Buns</td>\n",
       "      <td>20</td>\n",
       "    </tr>\n",
       "  </tbody>\n",
       "</table>\n",
       "</div>"
      ],
      "text/plain": [
       "   CustomerID FirstName   LastName  SalesID  ProductID           ProductName  \\\n",
       "0       61288      Rosa   Andersen   134196        229  Bread - Hot Dog Buns   \n",
       "1       77352     Myron     Murray  6167892        229  Bread - Hot Dog Buns   \n",
       "2       40094     Susan  Stevenson  5970885        229  Bread - Hot Dog Buns   \n",
       "3       23548    Tricia    Vincent  6426954        229  Bread - Hot Dog Buns   \n",
       "4       78981     Scott      Burch   819094        229  Bread - Hot Dog Buns   \n",
       "\n",
       "   Quantity  \n",
       "0        16  \n",
       "1        20  \n",
       "2        11  \n",
       "3         6  \n",
       "4        20  "
      ]
     },
     "execution_count": 3,
     "metadata": {},
     "output_type": "execute_result"
    }
   ],
   "source": [
    "data.head()"
   ]
  },
  {
   "cell_type": "markdown",
   "metadata": {},
   "source": [
    "## Step 1: Create a data frame that contains the total quantity of each product purchased by each customer.\n",
    "\n",
    "You will need to group by CustomerID and ProductName and then sum the Quantity field."
   ]
  },
  {
   "cell_type": "code",
   "execution_count": 4,
   "metadata": {
    "ExecuteTime": {
     "end_time": "2020-04-07T11:14:19.538714Z",
     "start_time": "2020-04-07T11:14:19.133765Z"
    },
    "scrolled": true
   },
   "outputs": [
    {
     "data": {
      "text/html": [
       "<div>\n",
       "<style scoped>\n",
       "    .dataframe tbody tr th:only-of-type {\n",
       "        vertical-align: middle;\n",
       "    }\n",
       "\n",
       "    .dataframe tbody tr th {\n",
       "        vertical-align: top;\n",
       "    }\n",
       "\n",
       "    .dataframe thead th {\n",
       "        text-align: right;\n",
       "    }\n",
       "</style>\n",
       "<table border=\"1\" class=\"dataframe\">\n",
       "  <thead>\n",
       "    <tr style=\"text-align: right;\">\n",
       "      <th></th>\n",
       "      <th>CustomerID</th>\n",
       "      <th>ProductName</th>\n",
       "      <th>Quantity</th>\n",
       "    </tr>\n",
       "  </thead>\n",
       "  <tbody>\n",
       "    <tr>\n",
       "      <th>0</th>\n",
       "      <td>33</td>\n",
       "      <td>Apricots - Dried</td>\n",
       "      <td>1</td>\n",
       "    </tr>\n",
       "    <tr>\n",
       "      <th>1</th>\n",
       "      <td>33</td>\n",
       "      <td>Assorted Desserts</td>\n",
       "      <td>1</td>\n",
       "    </tr>\n",
       "    <tr>\n",
       "      <th>2</th>\n",
       "      <td>33</td>\n",
       "      <td>Bandage - Flexible Neon</td>\n",
       "      <td>1</td>\n",
       "    </tr>\n",
       "    <tr>\n",
       "      <th>3</th>\n",
       "      <td>33</td>\n",
       "      <td>Bar Mix - Pina Colada, 355 Ml</td>\n",
       "      <td>1</td>\n",
       "    </tr>\n",
       "    <tr>\n",
       "      <th>4</th>\n",
       "      <td>33</td>\n",
       "      <td>Beans - Kidney, Canned</td>\n",
       "      <td>1</td>\n",
       "    </tr>\n",
       "  </tbody>\n",
       "</table>\n",
       "</div>"
      ],
      "text/plain": [
       "   CustomerID                    ProductName  Quantity\n",
       "0          33               Apricots - Dried         1\n",
       "1          33              Assorted Desserts         1\n",
       "2          33        Bandage - Flexible Neon         1\n",
       "3          33  Bar Mix - Pina Colada, 355 Ml         1\n",
       "4          33         Beans - Kidney, Canned         1"
      ]
     },
     "execution_count": 4,
     "metadata": {},
     "output_type": "execute_result"
    }
   ],
   "source": [
    "customer_products = data.groupby([\"CustomerID\", \"ProductName\"]).agg({\"Quantity\":\"sum\"}).reset_index()\n",
    "customer_products.head()"
   ]
  },
  {
   "cell_type": "markdown",
   "metadata": {},
   "source": [
    "## Step 2: Use the `pivot_table` method to create a product by customer matrix.\n",
    "\n",
    "The rows of the matrix should represent the products, the columns should represent the customers, and the values should be the quantities of each product purchased by each customer. You will also need to replace nulls with zeros, which you can do using the `fillna` method."
   ]
  },
  {
   "cell_type": "code",
   "execution_count": 5,
   "metadata": {
    "ExecuteTime": {
     "end_time": "2020-04-07T11:14:19.760133Z",
     "start_time": "2020-04-07T11:14:19.540677Z"
    }
   },
   "outputs": [
    {
     "data": {
      "text/html": [
       "<div>\n",
       "<style scoped>\n",
       "    .dataframe tbody tr th:only-of-type {\n",
       "        vertical-align: middle;\n",
       "    }\n",
       "\n",
       "    .dataframe tbody tr th {\n",
       "        vertical-align: top;\n",
       "    }\n",
       "\n",
       "    .dataframe thead th {\n",
       "        text-align: right;\n",
       "    }\n",
       "</style>\n",
       "<table border=\"1\" class=\"dataframe\">\n",
       "  <thead>\n",
       "    <tr style=\"text-align: right;\">\n",
       "      <th>CustomerID</th>\n",
       "      <th>33</th>\n",
       "      <th>200</th>\n",
       "      <th>264</th>\n",
       "      <th>356</th>\n",
       "      <th>412</th>\n",
       "      <th>464</th>\n",
       "      <th>477</th>\n",
       "      <th>639</th>\n",
       "      <th>649</th>\n",
       "      <th>669</th>\n",
       "      <th>...</th>\n",
       "      <th>97697</th>\n",
       "      <th>97753</th>\n",
       "      <th>97769</th>\n",
       "      <th>97793</th>\n",
       "      <th>97900</th>\n",
       "      <th>97928</th>\n",
       "      <th>98069</th>\n",
       "      <th>98159</th>\n",
       "      <th>98185</th>\n",
       "      <th>98200</th>\n",
       "    </tr>\n",
       "    <tr>\n",
       "      <th>ProductName</th>\n",
       "      <th></th>\n",
       "      <th></th>\n",
       "      <th></th>\n",
       "      <th></th>\n",
       "      <th></th>\n",
       "      <th></th>\n",
       "      <th></th>\n",
       "      <th></th>\n",
       "      <th></th>\n",
       "      <th></th>\n",
       "      <th></th>\n",
       "      <th></th>\n",
       "      <th></th>\n",
       "      <th></th>\n",
       "      <th></th>\n",
       "      <th></th>\n",
       "      <th></th>\n",
       "      <th></th>\n",
       "      <th></th>\n",
       "      <th></th>\n",
       "      <th></th>\n",
       "    </tr>\n",
       "  </thead>\n",
       "  <tbody>\n",
       "    <tr>\n",
       "      <th>Anchovy Paste - 56 G Tube</th>\n",
       "      <td>0.0</td>\n",
       "      <td>0.0</td>\n",
       "      <td>0.0</td>\n",
       "      <td>0.0</td>\n",
       "      <td>0.0</td>\n",
       "      <td>0.0</td>\n",
       "      <td>0.0</td>\n",
       "      <td>1.0</td>\n",
       "      <td>0.0</td>\n",
       "      <td>0.0</td>\n",
       "      <td>...</td>\n",
       "      <td>0.0</td>\n",
       "      <td>25.0</td>\n",
       "      <td>0.0</td>\n",
       "      <td>0.0</td>\n",
       "      <td>0.0</td>\n",
       "      <td>0.0</td>\n",
       "      <td>0.0</td>\n",
       "      <td>0.0</td>\n",
       "      <td>0.0</td>\n",
       "      <td>0.0</td>\n",
       "    </tr>\n",
       "    <tr>\n",
       "      <th>Appetizer - Mini Egg Roll, Shrimp</th>\n",
       "      <td>0.0</td>\n",
       "      <td>0.0</td>\n",
       "      <td>0.0</td>\n",
       "      <td>0.0</td>\n",
       "      <td>0.0</td>\n",
       "      <td>0.0</td>\n",
       "      <td>0.0</td>\n",
       "      <td>0.0</td>\n",
       "      <td>0.0</td>\n",
       "      <td>0.0</td>\n",
       "      <td>...</td>\n",
       "      <td>25.0</td>\n",
       "      <td>25.0</td>\n",
       "      <td>0.0</td>\n",
       "      <td>0.0</td>\n",
       "      <td>0.0</td>\n",
       "      <td>0.0</td>\n",
       "      <td>0.0</td>\n",
       "      <td>0.0</td>\n",
       "      <td>0.0</td>\n",
       "      <td>0.0</td>\n",
       "    </tr>\n",
       "    <tr>\n",
       "      <th>Appetizer - Mushroom Tart</th>\n",
       "      <td>0.0</td>\n",
       "      <td>0.0</td>\n",
       "      <td>0.0</td>\n",
       "      <td>0.0</td>\n",
       "      <td>0.0</td>\n",
       "      <td>0.0</td>\n",
       "      <td>0.0</td>\n",
       "      <td>1.0</td>\n",
       "      <td>0.0</td>\n",
       "      <td>0.0</td>\n",
       "      <td>...</td>\n",
       "      <td>25.0</td>\n",
       "      <td>0.0</td>\n",
       "      <td>0.0</td>\n",
       "      <td>0.0</td>\n",
       "      <td>0.0</td>\n",
       "      <td>0.0</td>\n",
       "      <td>0.0</td>\n",
       "      <td>0.0</td>\n",
       "      <td>25.0</td>\n",
       "      <td>0.0</td>\n",
       "    </tr>\n",
       "    <tr>\n",
       "      <th>Appetizer - Sausage Rolls</th>\n",
       "      <td>0.0</td>\n",
       "      <td>0.0</td>\n",
       "      <td>0.0</td>\n",
       "      <td>0.0</td>\n",
       "      <td>0.0</td>\n",
       "      <td>0.0</td>\n",
       "      <td>0.0</td>\n",
       "      <td>0.0</td>\n",
       "      <td>0.0</td>\n",
       "      <td>0.0</td>\n",
       "      <td>...</td>\n",
       "      <td>0.0</td>\n",
       "      <td>0.0</td>\n",
       "      <td>0.0</td>\n",
       "      <td>0.0</td>\n",
       "      <td>25.0</td>\n",
       "      <td>25.0</td>\n",
       "      <td>25.0</td>\n",
       "      <td>0.0</td>\n",
       "      <td>25.0</td>\n",
       "      <td>0.0</td>\n",
       "    </tr>\n",
       "    <tr>\n",
       "      <th>Apricots - Dried</th>\n",
       "      <td>1.0</td>\n",
       "      <td>0.0</td>\n",
       "      <td>0.0</td>\n",
       "      <td>0.0</td>\n",
       "      <td>1.0</td>\n",
       "      <td>0.0</td>\n",
       "      <td>0.0</td>\n",
       "      <td>0.0</td>\n",
       "      <td>0.0</td>\n",
       "      <td>0.0</td>\n",
       "      <td>...</td>\n",
       "      <td>0.0</td>\n",
       "      <td>25.0</td>\n",
       "      <td>0.0</td>\n",
       "      <td>0.0</td>\n",
       "      <td>0.0</td>\n",
       "      <td>0.0</td>\n",
       "      <td>0.0</td>\n",
       "      <td>0.0</td>\n",
       "      <td>0.0</td>\n",
       "      <td>0.0</td>\n",
       "    </tr>\n",
       "  </tbody>\n",
       "</table>\n",
       "<p>5 rows × 1000 columns</p>\n",
       "</div>"
      ],
      "text/plain": [
       "CustomerID                         33     200    264    356    412    464    \\\n",
       "ProductName                                                                   \n",
       "Anchovy Paste - 56 G Tube            0.0    0.0    0.0    0.0    0.0    0.0   \n",
       "Appetizer - Mini Egg Roll, Shrimp    0.0    0.0    0.0    0.0    0.0    0.0   \n",
       "Appetizer - Mushroom Tart            0.0    0.0    0.0    0.0    0.0    0.0   \n",
       "Appetizer - Sausage Rolls            0.0    0.0    0.0    0.0    0.0    0.0   \n",
       "Apricots - Dried                     1.0    0.0    0.0    0.0    1.0    0.0   \n",
       "\n",
       "CustomerID                         477    639    649    669    ...  97697  \\\n",
       "ProductName                                                    ...          \n",
       "Anchovy Paste - 56 G Tube            0.0    1.0    0.0    0.0  ...    0.0   \n",
       "Appetizer - Mini Egg Roll, Shrimp    0.0    0.0    0.0    0.0  ...   25.0   \n",
       "Appetizer - Mushroom Tart            0.0    1.0    0.0    0.0  ...   25.0   \n",
       "Appetizer - Sausage Rolls            0.0    0.0    0.0    0.0  ...    0.0   \n",
       "Apricots - Dried                     0.0    0.0    0.0    0.0  ...    0.0   \n",
       "\n",
       "CustomerID                         97753  97769  97793  97900  97928  98069  \\\n",
       "ProductName                                                                   \n",
       "Anchovy Paste - 56 G Tube           25.0    0.0    0.0    0.0    0.0    0.0   \n",
       "Appetizer - Mini Egg Roll, Shrimp   25.0    0.0    0.0    0.0    0.0    0.0   \n",
       "Appetizer - Mushroom Tart            0.0    0.0    0.0    0.0    0.0    0.0   \n",
       "Appetizer - Sausage Rolls            0.0    0.0    0.0   25.0   25.0   25.0   \n",
       "Apricots - Dried                    25.0    0.0    0.0    0.0    0.0    0.0   \n",
       "\n",
       "CustomerID                         98159  98185  98200  \n",
       "ProductName                                             \n",
       "Anchovy Paste - 56 G Tube            0.0    0.0    0.0  \n",
       "Appetizer - Mini Egg Roll, Shrimp    0.0    0.0    0.0  \n",
       "Appetizer - Mushroom Tart            0.0   25.0    0.0  \n",
       "Appetizer - Sausage Rolls            0.0   25.0    0.0  \n",
       "Apricots - Dried                     0.0    0.0    0.0  \n",
       "\n",
       "[5 rows x 1000 columns]"
      ]
     },
     "execution_count": 5,
     "metadata": {},
     "output_type": "execute_result"
    }
   ],
   "source": [
    "prod_cust_pivot = pd.pivot_table(customer_products, columns=\"CustomerID\",\n",
    "                                 index=\"ProductName\", values=\"Quantity\").fillna(0)\n",
    "prod_cust_pivot.head()"
   ]
  },
  {
   "cell_type": "markdown",
   "metadata": {},
   "source": [
    "## Step 3: Create a customer similarity matrix using `squareform` and `pdist`. For the distance metric, choose \"euclidean.\""
   ]
  },
  {
   "cell_type": "code",
   "execution_count": 6,
   "metadata": {
    "ExecuteTime": {
     "end_time": "2020-04-07T11:14:20.103193Z",
     "start_time": "2020-04-07T11:14:19.763082Z"
    }
   },
   "outputs": [
    {
     "data": {
      "text/html": [
       "<div>\n",
       "<style scoped>\n",
       "    .dataframe tbody tr th:only-of-type {\n",
       "        vertical-align: middle;\n",
       "    }\n",
       "\n",
       "    .dataframe tbody tr th {\n",
       "        vertical-align: top;\n",
       "    }\n",
       "\n",
       "    .dataframe thead th {\n",
       "        text-align: right;\n",
       "    }\n",
       "</style>\n",
       "<table border=\"1\" class=\"dataframe\">\n",
       "  <thead>\n",
       "    <tr style=\"text-align: right;\">\n",
       "      <th>CustomerID</th>\n",
       "      <th>33</th>\n",
       "      <th>200</th>\n",
       "      <th>264</th>\n",
       "      <th>356</th>\n",
       "      <th>412</th>\n",
       "      <th>464</th>\n",
       "      <th>477</th>\n",
       "      <th>639</th>\n",
       "      <th>649</th>\n",
       "      <th>669</th>\n",
       "      <th>...</th>\n",
       "      <th>97697</th>\n",
       "      <th>97753</th>\n",
       "      <th>97769</th>\n",
       "      <th>97793</th>\n",
       "      <th>97900</th>\n",
       "      <th>97928</th>\n",
       "      <th>98069</th>\n",
       "      <th>98159</th>\n",
       "      <th>98185</th>\n",
       "      <th>98200</th>\n",
       "    </tr>\n",
       "    <tr>\n",
       "      <th>CustomerID</th>\n",
       "      <th></th>\n",
       "      <th></th>\n",
       "      <th></th>\n",
       "      <th></th>\n",
       "      <th></th>\n",
       "      <th></th>\n",
       "      <th></th>\n",
       "      <th></th>\n",
       "      <th></th>\n",
       "      <th></th>\n",
       "      <th></th>\n",
       "      <th></th>\n",
       "      <th></th>\n",
       "      <th></th>\n",
       "      <th></th>\n",
       "      <th></th>\n",
       "      <th></th>\n",
       "      <th></th>\n",
       "      <th></th>\n",
       "      <th></th>\n",
       "      <th></th>\n",
       "    </tr>\n",
       "  </thead>\n",
       "  <tbody>\n",
       "    <tr>\n",
       "      <th>33</th>\n",
       "      <td>1.000000</td>\n",
       "      <td>0.077421</td>\n",
       "      <td>0.087047</td>\n",
       "      <td>0.081800</td>\n",
       "      <td>0.080634</td>\n",
       "      <td>0.082709</td>\n",
       "      <td>0.074573</td>\n",
       "      <td>0.083020</td>\n",
       "      <td>0.081503</td>\n",
       "      <td>0.080070</td>\n",
       "      <td>...</td>\n",
       "      <td>0.004811</td>\n",
       "      <td>0.004669</td>\n",
       "      <td>0.004412</td>\n",
       "      <td>0.005019</td>\n",
       "      <td>0.004312</td>\n",
       "      <td>0.004515</td>\n",
       "      <td>0.004583</td>\n",
       "      <td>0.004355</td>\n",
       "      <td>0.004167</td>\n",
       "      <td>0.004333</td>\n",
       "    </tr>\n",
       "    <tr>\n",
       "      <th>200</th>\n",
       "      <td>0.077421</td>\n",
       "      <td>1.000000</td>\n",
       "      <td>0.078448</td>\n",
       "      <td>0.076435</td>\n",
       "      <td>0.073693</td>\n",
       "      <td>0.075255</td>\n",
       "      <td>0.075956</td>\n",
       "      <td>0.076435</td>\n",
       "      <td>0.077674</td>\n",
       "      <td>0.076923</td>\n",
       "      <td>...</td>\n",
       "      <td>0.004824</td>\n",
       "      <td>0.004681</td>\n",
       "      <td>0.004431</td>\n",
       "      <td>0.005047</td>\n",
       "      <td>0.004311</td>\n",
       "      <td>0.004521</td>\n",
       "      <td>0.004614</td>\n",
       "      <td>0.004367</td>\n",
       "      <td>0.004166</td>\n",
       "      <td>0.004335</td>\n",
       "    </tr>\n",
       "    <tr>\n",
       "      <th>264</th>\n",
       "      <td>0.087047</td>\n",
       "      <td>0.078448</td>\n",
       "      <td>1.000000</td>\n",
       "      <td>0.080070</td>\n",
       "      <td>0.081800</td>\n",
       "      <td>0.080350</td>\n",
       "      <td>0.076923</td>\n",
       "      <td>0.080634</td>\n",
       "      <td>0.082100</td>\n",
       "      <td>0.078448</td>\n",
       "      <td>...</td>\n",
       "      <td>0.004822</td>\n",
       "      <td>0.004674</td>\n",
       "      <td>0.004416</td>\n",
       "      <td>0.005035</td>\n",
       "      <td>0.004322</td>\n",
       "      <td>0.004543</td>\n",
       "      <td>0.004595</td>\n",
       "      <td>0.004365</td>\n",
       "      <td>0.004179</td>\n",
       "      <td>0.004333</td>\n",
       "    </tr>\n",
       "    <tr>\n",
       "      <th>356</th>\n",
       "      <td>0.081800</td>\n",
       "      <td>0.076435</td>\n",
       "      <td>0.080070</td>\n",
       "      <td>1.000000</td>\n",
       "      <td>0.076435</td>\n",
       "      <td>0.078187</td>\n",
       "      <td>0.075025</td>\n",
       "      <td>0.082403</td>\n",
       "      <td>0.077171</td>\n",
       "      <td>0.075956</td>\n",
       "      <td>...</td>\n",
       "      <td>0.004816</td>\n",
       "      <td>0.004671</td>\n",
       "      <td>0.004416</td>\n",
       "      <td>0.005038</td>\n",
       "      <td>0.004310</td>\n",
       "      <td>0.004526</td>\n",
       "      <td>0.004578</td>\n",
       "      <td>0.004365</td>\n",
       "      <td>0.004175</td>\n",
       "      <td>0.004339</td>\n",
       "    </tr>\n",
       "    <tr>\n",
       "      <th>412</th>\n",
       "      <td>0.080634</td>\n",
       "      <td>0.073693</td>\n",
       "      <td>0.081800</td>\n",
       "      <td>0.076435</td>\n",
       "      <td>1.000000</td>\n",
       "      <td>0.078711</td>\n",
       "      <td>0.075025</td>\n",
       "      <td>0.082403</td>\n",
       "      <td>0.078187</td>\n",
       "      <td>0.078448</td>\n",
       "      <td>...</td>\n",
       "      <td>0.004810</td>\n",
       "      <td>0.004702</td>\n",
       "      <td>0.004414</td>\n",
       "      <td>0.005034</td>\n",
       "      <td>0.004318</td>\n",
       "      <td>0.004530</td>\n",
       "      <td>0.004578</td>\n",
       "      <td>0.004367</td>\n",
       "      <td>0.004177</td>\n",
       "      <td>0.004349</td>\n",
       "    </tr>\n",
       "  </tbody>\n",
       "</table>\n",
       "<p>5 rows × 1000 columns</p>\n",
       "</div>"
      ],
      "text/plain": [
       "CustomerID     33        200       264       356       412       464    \\\n",
       "CustomerID                                                               \n",
       "33          1.000000  0.077421  0.087047  0.081800  0.080634  0.082709   \n",
       "200         0.077421  1.000000  0.078448  0.076435  0.073693  0.075255   \n",
       "264         0.087047  0.078448  1.000000  0.080070  0.081800  0.080350   \n",
       "356         0.081800  0.076435  0.080070  1.000000  0.076435  0.078187   \n",
       "412         0.080634  0.073693  0.081800  0.076435  1.000000  0.078711   \n",
       "\n",
       "CustomerID     477       639       649       669    ...     97697     97753  \\\n",
       "CustomerID                                          ...                       \n",
       "33          0.074573  0.083020  0.081503  0.080070  ...  0.004811  0.004669   \n",
       "200         0.075956  0.076435  0.077674  0.076923  ...  0.004824  0.004681   \n",
       "264         0.076923  0.080634  0.082100  0.078448  ...  0.004822  0.004674   \n",
       "356         0.075025  0.082403  0.077171  0.075956  ...  0.004816  0.004671   \n",
       "412         0.075025  0.082403  0.078187  0.078448  ...  0.004810  0.004702   \n",
       "\n",
       "CustomerID     97769     97793     97900     97928     98069     98159  \\\n",
       "CustomerID                                                               \n",
       "33          0.004412  0.005019  0.004312  0.004515  0.004583  0.004355   \n",
       "200         0.004431  0.005047  0.004311  0.004521  0.004614  0.004367   \n",
       "264         0.004416  0.005035  0.004322  0.004543  0.004595  0.004365   \n",
       "356         0.004416  0.005038  0.004310  0.004526  0.004578  0.004365   \n",
       "412         0.004414  0.005034  0.004318  0.004530  0.004578  0.004367   \n",
       "\n",
       "CustomerID     98185     98200  \n",
       "CustomerID                      \n",
       "33          0.004167  0.004333  \n",
       "200         0.004166  0.004335  \n",
       "264         0.004179  0.004333  \n",
       "356         0.004175  0.004339  \n",
       "412         0.004177  0.004349  \n",
       "\n",
       "[5 rows x 1000 columns]"
      ]
     },
     "execution_count": 6,
     "metadata": {},
     "output_type": "execute_result"
    }
   ],
   "source": [
    "cust_dist = pd.DataFrame(1/(1 + squareform(pdist(prod_cust_pivot.T, \"euclidean\"))),\n",
    "                         index=prod_cust_pivot.T.index, columns=prod_cust_pivot.T.index)\n",
    "\n",
    "cust_dist.head()"
   ]
  },
  {
   "cell_type": "markdown",
   "metadata": {},
   "source": [
    "## Step 4: Check your results by generating a list of the top 5 most similar customers for a specific CustomerID."
   ]
  },
  {
   "cell_type": "code",
   "execution_count": 7,
   "metadata": {
    "ExecuteTime": {
     "end_time": "2020-04-07T11:14:20.113174Z",
     "start_time": "2020-04-07T11:14:20.105167Z"
    }
   },
   "outputs": [
    {
     "name": "stdout",
     "output_type": "stream",
     "text": [
      "[264, 3535, 3317, 2503, 3305]\n"
     ]
    }
   ],
   "source": [
    "similar_cust = list(cust_dist[33].sort_values(ascending=False)[1:].head().index)\n",
    "print(similar_cust)"
   ]
  },
  {
   "cell_type": "markdown",
   "metadata": {},
   "source": [
    "## Step 5: From the data frame you created in Step 1, select the records for the list of similar CustomerIDs you obtained in Step 4."
   ]
  },
  {
   "cell_type": "code",
   "execution_count": 8,
   "metadata": {
    "ExecuteTime": {
     "end_time": "2020-04-07T11:14:20.499145Z",
     "start_time": "2020-04-07T11:14:20.115141Z"
    }
   },
   "outputs": [
    {
     "data": {
      "text/html": [
       "<div>\n",
       "<style scoped>\n",
       "    .dataframe tbody tr th:only-of-type {\n",
       "        vertical-align: middle;\n",
       "    }\n",
       "\n",
       "    .dataframe tbody tr th {\n",
       "        vertical-align: top;\n",
       "    }\n",
       "\n",
       "    .dataframe thead th {\n",
       "        text-align: right;\n",
       "    }\n",
       "</style>\n",
       "<table border=\"1\" class=\"dataframe\">\n",
       "  <thead>\n",
       "    <tr style=\"text-align: right;\">\n",
       "      <th></th>\n",
       "      <th>CustomerID</th>\n",
       "      <th>ProductName</th>\n",
       "      <th>Quantity</th>\n",
       "    </tr>\n",
       "  </thead>\n",
       "  <tbody>\n",
       "    <tr>\n",
       "      <th>131</th>\n",
       "      <td>264</td>\n",
       "      <td>Apricots - Halves</td>\n",
       "      <td>1</td>\n",
       "    </tr>\n",
       "    <tr>\n",
       "      <th>132</th>\n",
       "      <td>264</td>\n",
       "      <td>Apricots Fresh</td>\n",
       "      <td>1</td>\n",
       "    </tr>\n",
       "    <tr>\n",
       "      <th>133</th>\n",
       "      <td>264</td>\n",
       "      <td>Bacardi Breezer - Tropical</td>\n",
       "      <td>1</td>\n",
       "    </tr>\n",
       "    <tr>\n",
       "      <th>134</th>\n",
       "      <td>264</td>\n",
       "      <td>Bagel - Plain</td>\n",
       "      <td>1</td>\n",
       "    </tr>\n",
       "    <tr>\n",
       "      <th>135</th>\n",
       "      <td>264</td>\n",
       "      <td>Banana - Leaves</td>\n",
       "      <td>1</td>\n",
       "    </tr>\n",
       "  </tbody>\n",
       "</table>\n",
       "</div>"
      ],
      "text/plain": [
       "     CustomerID                 ProductName  Quantity\n",
       "131         264           Apricots - Halves         1\n",
       "132         264              Apricots Fresh         1\n",
       "133         264  Bacardi Breezer - Tropical         1\n",
       "134         264               Bagel - Plain         1\n",
       "135         264             Banana - Leaves         1"
      ]
     },
     "execution_count": 8,
     "metadata": {},
     "output_type": "execute_result"
    }
   ],
   "source": [
    "sim_cust_prod = customer_products[customer_products[\"CustomerID\"].isin(similar_cust)]\n",
    "sim_cust_prod.head()"
   ]
  },
  {
   "cell_type": "markdown",
   "metadata": {},
   "source": [
    "## Step 6: Aggregate those customer purchase records by ProductName, sum the Quantity field, and then rank them in descending order by quantity.\n",
    "\n",
    "This will give you the total number of each product purchased by the 5 most similar customers to the customer you selected in order from most purchased to least."
   ]
  },
  {
   "cell_type": "code",
   "execution_count": 9,
   "metadata": {
    "ExecuteTime": {
     "end_time": "2020-04-07T11:14:20.599852Z",
     "start_time": "2020-04-07T11:14:20.501126Z"
    }
   },
   "outputs": [
    {
     "data": {
      "text/html": [
       "<div>\n",
       "<style scoped>\n",
       "    .dataframe tbody tr th:only-of-type {\n",
       "        vertical-align: middle;\n",
       "    }\n",
       "\n",
       "    .dataframe tbody tr th {\n",
       "        vertical-align: top;\n",
       "    }\n",
       "\n",
       "    .dataframe thead th {\n",
       "        text-align: right;\n",
       "    }\n",
       "</style>\n",
       "<table border=\"1\" class=\"dataframe\">\n",
       "  <thead>\n",
       "    <tr style=\"text-align: right;\">\n",
       "      <th></th>\n",
       "      <th>ProductName</th>\n",
       "      <th>Quantity</th>\n",
       "    </tr>\n",
       "  </thead>\n",
       "  <tbody>\n",
       "    <tr>\n",
       "      <th>0</th>\n",
       "      <td>Butter - Unsalted</td>\n",
       "      <td>3</td>\n",
       "    </tr>\n",
       "    <tr>\n",
       "      <th>1</th>\n",
       "      <td>Wine - Ej Gallo Sierra Valley</td>\n",
       "      <td>3</td>\n",
       "    </tr>\n",
       "    <tr>\n",
       "      <th>2</th>\n",
       "      <td>Towels - Paper / Kraft</td>\n",
       "      <td>3</td>\n",
       "    </tr>\n",
       "    <tr>\n",
       "      <th>3</th>\n",
       "      <td>Soup - Campbells Bean Medley</td>\n",
       "      <td>3</td>\n",
       "    </tr>\n",
       "    <tr>\n",
       "      <th>4</th>\n",
       "      <td>Wine - Blue Nun Qualitatswein</td>\n",
       "      <td>3</td>\n",
       "    </tr>\n",
       "  </tbody>\n",
       "</table>\n",
       "</div>"
      ],
      "text/plain": [
       "                     ProductName  Quantity\n",
       "0              Butter - Unsalted         3\n",
       "1  Wine - Ej Gallo Sierra Valley         3\n",
       "2         Towels - Paper / Kraft         3\n",
       "3   Soup - Campbells Bean Medley         3\n",
       "4  Wine - Blue Nun Qualitatswein         3"
      ]
     },
     "execution_count": 9,
     "metadata": {},
     "output_type": "execute_result"
    }
   ],
   "source": [
    "ranked_products = sim_cust_prod.groupby(\"ProductName\"\n",
    "                                       ).agg({\"Quantity\":\"sum\"}).sort_values(\"Quantity\", ascending=False).reset_index()\n",
    "ranked_products.head()"
   ]
  },
  {
   "cell_type": "markdown",
   "metadata": {},
   "source": [
    "## Step 7: Filter the list for products that the chosen customer has not yet purchased and then recommend the top 5 products with the highest quantities that are left.\n",
    "\n",
    "- Merge the ranked products data frame with the customer product matrix on the ProductName field.\n",
    "- Filter for records where the chosen customer has not purchased the product.\n",
    "- Show the top 5 results."
   ]
  },
  {
   "cell_type": "code",
   "execution_count": 10,
   "metadata": {
    "ExecuteTime": {
     "end_time": "2020-04-07T11:14:20.708554Z",
     "start_time": "2020-04-07T11:14:20.601839Z"
    }
   },
   "outputs": [
    {
     "data": {
      "text/html": [
       "<div>\n",
       "<style scoped>\n",
       "    .dataframe tbody tr th:only-of-type {\n",
       "        vertical-align: middle;\n",
       "    }\n",
       "\n",
       "    .dataframe tbody tr th {\n",
       "        vertical-align: top;\n",
       "    }\n",
       "\n",
       "    .dataframe thead th {\n",
       "        text-align: right;\n",
       "    }\n",
       "</style>\n",
       "<table border=\"1\" class=\"dataframe\">\n",
       "  <thead>\n",
       "    <tr style=\"text-align: right;\">\n",
       "      <th></th>\n",
       "      <th>ProductName</th>\n",
       "      <th>Quantity</th>\n",
       "      <th>Purchased</th>\n",
       "    </tr>\n",
       "  </thead>\n",
       "  <tbody>\n",
       "    <tr>\n",
       "      <th>0</th>\n",
       "      <td>Butter - Unsalted</td>\n",
       "      <td>3</td>\n",
       "      <td>0.0</td>\n",
       "    </tr>\n",
       "    <tr>\n",
       "      <th>1</th>\n",
       "      <td>Wine - Ej Gallo Sierra Valley</td>\n",
       "      <td>3</td>\n",
       "      <td>0.0</td>\n",
       "    </tr>\n",
       "    <tr>\n",
       "      <th>3</th>\n",
       "      <td>Soup - Campbells Bean Medley</td>\n",
       "      <td>3</td>\n",
       "      <td>0.0</td>\n",
       "    </tr>\n",
       "    <tr>\n",
       "      <th>4</th>\n",
       "      <td>Wine - Blue Nun Qualitatswein</td>\n",
       "      <td>3</td>\n",
       "      <td>0.0</td>\n",
       "    </tr>\n",
       "    <tr>\n",
       "      <th>6</th>\n",
       "      <td>Chicken - Soup Base</td>\n",
       "      <td>2</td>\n",
       "      <td>0.0</td>\n",
       "    </tr>\n",
       "  </tbody>\n",
       "</table>\n",
       "</div>"
      ],
      "text/plain": [
       "                     ProductName  Quantity  Purchased\n",
       "0              Butter - Unsalted         3        0.0\n",
       "1  Wine - Ej Gallo Sierra Valley         3        0.0\n",
       "3   Soup - Campbells Bean Medley         3        0.0\n",
       "4  Wine - Blue Nun Qualitatswein         3        0.0\n",
       "6            Chicken - Soup Base         2        0.0"
      ]
     },
     "execution_count": 10,
     "metadata": {},
     "output_type": "execute_result"
    }
   ],
   "source": [
    "merged= pd.merge(ranked_products, pd.DataFrame(prod_cust_pivot[33]), on=\"ProductName\")\n",
    "merged.columns = [\"ProductName\", \"Quantity\", \"Purchased\"] \n",
    "\n",
    "recs = merged[merged[\"Purchased\"] == 0].head()\n",
    "\n",
    "recs.head()"
   ]
  },
  {
   "cell_type": "markdown",
   "metadata": {},
   "source": [
    "## Step 8: Now that we have generated product recommendations for a single user, put the pieces together and iterate over a list of all CustomerIDs.\n",
    "\n",
    "- Create an empty dictionary that will hold the recommendations for all customers.\n",
    "- Create a list of unique CustomerIDs to iterate over.\n",
    "- Iterate over the customer list performing steps 4 through 7 for each and appending the results of each iteration to the dictionary you created."
   ]
  },
  {
   "cell_type": "code",
   "execution_count": 11,
   "metadata": {
    "ExecuteTime": {
     "end_time": "2020-04-07T11:14:20.801305Z",
     "start_time": "2020-04-07T11:14:20.710548Z"
    }
   },
   "outputs": [],
   "source": [
    "recommendations = {}\n",
    "customersID = list(customer_products[\"CustomerID\"].unique())"
   ]
  },
  {
   "cell_type": "code",
   "execution_count": 12,
   "metadata": {
    "ExecuteTime": {
     "end_time": "2020-04-07T11:14:30.350001Z",
     "start_time": "2020-04-07T11:14:20.803299Z"
    }
   },
   "outputs": [],
   "source": [
    "for customer_id in customersID:\n",
    "  \n",
    "    similar_cust = list(cust_dist[customer_id].sort_values(ascending=False)[1:].head().index)\n",
    "   \n",
    "    sim_cust_prod = customer_products[customer_products[\"CustomerID\"].isin(similar_cust)]\n",
    "\n",
    "    ranked_products = sim_cust_prod.groupby(\"ProductName\"\n",
    "                                           ).agg({\"Quantity\":\"sum\"}).sort_values(\"Quantity\",ascending=False).reset_index()\n",
    "\n",
    "    merged= pd.merge(ranked_products, pd.DataFrame(prod_cust_pivot[customer_id]), on=\"ProductName\")\n",
    "    merged.columns = [\"ProductName\", \"Quantity\", \"Purchased\"] \n",
    "    recs = merged[merged[\"Purchased\"] == 0].head()\n",
    "    \n",
    "    recommendations[customer_id] = list(recs[\"ProductName\"])"
   ]
  },
  {
   "cell_type": "code",
   "execution_count": 13,
   "metadata": {
    "ExecuteTime": {
     "end_time": "2020-04-07T11:14:30.357899Z",
     "start_time": "2020-04-07T11:14:30.351900Z"
    }
   },
   "outputs": [
    {
     "data": {
      "text/plain": [
       "['Butter - Unsalted',\n",
       " 'Wine - Ej Gallo Sierra Valley',\n",
       " 'Soup - Campbells Bean Medley',\n",
       " 'Wine - Blue Nun Qualitatswein',\n",
       " 'Chicken - Soup Base']"
      ]
     },
     "execution_count": 13,
     "metadata": {},
     "output_type": "execute_result"
    }
   ],
   "source": [
    "recommendations[33]"
   ]
  },
  {
   "cell_type": "markdown",
   "metadata": {},
   "source": [
    "##  Step 9: Store the results in a Pandas data frame. The data frame should a column for Customer ID and then a column for each of the 5 product recommendations for each customer."
   ]
  },
  {
   "cell_type": "code",
   "execution_count": 14,
   "metadata": {
    "ExecuteTime": {
     "end_time": "2020-04-07T11:14:31.418057Z",
     "start_time": "2020-04-07T11:14:30.359878Z"
    },
    "scrolled": true
   },
   "outputs": [
    {
     "data": {
      "text/html": [
       "<div>\n",
       "<style scoped>\n",
       "    .dataframe tbody tr th:only-of-type {\n",
       "        vertical-align: middle;\n",
       "    }\n",
       "\n",
       "    .dataframe tbody tr th {\n",
       "        vertical-align: top;\n",
       "    }\n",
       "\n",
       "    .dataframe thead th {\n",
       "        text-align: right;\n",
       "    }\n",
       "</style>\n",
       "<table border=\"1\" class=\"dataframe\">\n",
       "  <thead>\n",
       "    <tr style=\"text-align: right;\">\n",
       "      <th></th>\n",
       "      <th>CustomerID</th>\n",
       "      <th>Product 1</th>\n",
       "      <th>Product 2</th>\n",
       "      <th>Product 3</th>\n",
       "      <th>Product 4</th>\n",
       "      <th>Product 5</th>\n",
       "    </tr>\n",
       "  </thead>\n",
       "  <tbody>\n",
       "    <tr>\n",
       "      <th>0</th>\n",
       "      <td>33</td>\n",
       "      <td>Butter - Unsalted</td>\n",
       "      <td>Wine - Ej Gallo Sierra Valley</td>\n",
       "      <td>Soup - Campbells Bean Medley</td>\n",
       "      <td>Wine - Blue Nun Qualitatswein</td>\n",
       "      <td>Chicken - Soup Base</td>\n",
       "    </tr>\n",
       "    <tr>\n",
       "      <th>1</th>\n",
       "      <td>200</td>\n",
       "      <td>Soup - Campbells Bean Medley</td>\n",
       "      <td>Muffin - Carrot Individual Wrap</td>\n",
       "      <td>Bay Leaf</td>\n",
       "      <td>Pork - Kidney</td>\n",
       "      <td>Wanton Wrap</td>\n",
       "    </tr>\n",
       "    <tr>\n",
       "      <th>2</th>\n",
       "      <td>264</td>\n",
       "      <td>Soupfoamcont12oz 112con</td>\n",
       "      <td>Wine - Two Oceans Cabernet</td>\n",
       "      <td>Bread - Italian Roll With Herbs</td>\n",
       "      <td>Veal - Inside, Choice</td>\n",
       "      <td>Fish - Scallops, Cold Smoked</td>\n",
       "    </tr>\n",
       "    <tr>\n",
       "      <th>3</th>\n",
       "      <td>356</td>\n",
       "      <td>Veal - Inside, Choice</td>\n",
       "      <td>Lamb - Ground</td>\n",
       "      <td>Pomello</td>\n",
       "      <td>Butter - Unsalted</td>\n",
       "      <td>Tart Shells - Sweet, 4</td>\n",
       "    </tr>\n",
       "    <tr>\n",
       "      <th>4</th>\n",
       "      <td>412</td>\n",
       "      <td>Olive - Spread Tapenade</td>\n",
       "      <td>Sprouts - Baby Pea Tendrils</td>\n",
       "      <td>Wine - Blue Nun Qualitatswein</td>\n",
       "      <td>Pepper - Black, Whole</td>\n",
       "      <td>Soup - Campbells Bean Medley</td>\n",
       "    </tr>\n",
       "  </tbody>\n",
       "</table>\n",
       "</div>"
      ],
      "text/plain": [
       "   CustomerID                     Product 1                        Product 2  \\\n",
       "0          33             Butter - Unsalted    Wine - Ej Gallo Sierra Valley   \n",
       "1         200  Soup - Campbells Bean Medley  Muffin - Carrot Individual Wrap   \n",
       "2         264       Soupfoamcont12oz 112con       Wine - Two Oceans Cabernet   \n",
       "3         356         Veal - Inside, Choice                    Lamb - Ground   \n",
       "4         412       Olive - Spread Tapenade      Sprouts - Baby Pea Tendrils   \n",
       "\n",
       "                         Product 3                      Product 4  \\\n",
       "0     Soup - Campbells Bean Medley  Wine - Blue Nun Qualitatswein   \n",
       "1                         Bay Leaf                  Pork - Kidney   \n",
       "2  Bread - Italian Roll With Herbs          Veal - Inside, Choice   \n",
       "3                          Pomello              Butter - Unsalted   \n",
       "4    Wine - Blue Nun Qualitatswein          Pepper - Black, Whole   \n",
       "\n",
       "                      Product 5  \n",
       "0           Chicken - Soup Base  \n",
       "1                   Wanton Wrap  \n",
       "2  Fish - Scallops, Cold Smoked  \n",
       "3        Tart Shells - Sweet, 4  \n",
       "4  Soup - Campbells Bean Medley  "
      ]
     },
     "execution_count": 14,
     "metadata": {},
     "output_type": "execute_result"
    }
   ],
   "source": [
    "recommendationsDF = pd.DataFrame.from_dict(recommendations, orient=\"index\").reset_index()\n",
    "\n",
    "recommendationsDF.columns = [\"CustomerID\", \"Product 1\", \"Product 2\",\"Product 3\",\"Product 4\",\"Product 5\"]\n",
    "recommendationsDF.head()"
   ]
  },
  {
   "cell_type": "markdown",
   "metadata": {},
   "source": [
    "## Step 10: Change the distance metric used in Step 3 to something other than euclidean (correlation, cityblock, consine, jaccard, etc.). Regenerate the recommendations for all customers and note the differences."
   ]
  },
  {
   "cell_type": "code",
   "execution_count": 15,
   "metadata": {
    "ExecuteTime": {
     "end_time": "2020-04-07T11:14:31.526761Z",
     "start_time": "2020-04-07T11:14:31.421042Z"
    }
   },
   "outputs": [],
   "source": [
    "recommendations_jaccard = {}\n",
    "customersID = list(customer_products[\"CustomerID\"].unique())"
   ]
  },
  {
   "cell_type": "code",
   "execution_count": 16,
   "metadata": {
    "ExecuteTime": {
     "end_time": "2020-04-07T11:48:08.912321Z",
     "start_time": "2020-04-07T11:14:31.528752Z"
    }
   },
   "outputs": [],
   "source": [
    "for customer_id in customersID:\n",
    "    \n",
    "    cust_dist = pd.DataFrame(1/(1 + squareform(pdist(prod_cust_pivot.T, \"jaccard\"))),\n",
    "                         index=prod_cust_pivot.T.index, columns=prod_cust_pivot.T.index)\n",
    "  \n",
    "    similar_cust = list(cust_dist[customer_id].sort_values(ascending=False)[1:].head().index)\n",
    "   \n",
    "    sim_cust_prod = customer_products[customer_products[\"CustomerID\"].isin(similar_cust)]\n",
    "\n",
    "    ranked_products = sim_cust_prod.groupby(\"ProductName\"\n",
    "                                           ).agg({\"Quantity\":\"sum\"}).sort_values(\"Quantity\",ascending=False).reset_index()\n",
    "\n",
    "    merged= pd.merge(ranked_products, pd.DataFrame(prod_cust_pivot[customer_id]), on=\"ProductName\")\n",
    "    merged.columns = [\"ProductName\", \"Quantity\", \"Purchased\"] \n",
    "    recs = merged[merged[\"Purchased\"] == 0].head()\n",
    "    \n",
    "    recommendations_jaccard[customer_id] = list(recs[\"ProductName\"])"
   ]
  },
  {
   "cell_type": "code",
   "execution_count": 17,
   "metadata": {
    "ExecuteTime": {
     "end_time": "2020-04-07T11:48:08.920178Z",
     "start_time": "2020-04-07T11:48:08.915190Z"
    }
   },
   "outputs": [
    {
     "data": {
      "text/plain": [
       "['Loquat',\n",
       " 'Milk - 2%',\n",
       " 'Muffin Mix - Blueberry',\n",
       " 'Blueberries',\n",
       " 'Cheese - Brie, Triple Creme']"
      ]
     },
     "execution_count": 17,
     "metadata": {},
     "output_type": "execute_result"
    }
   ],
   "source": [
    "recommendations_jaccard[33]"
   ]
  },
  {
   "cell_type": "code",
   "execution_count": null,
   "metadata": {},
   "outputs": [],
   "source": []
  },
  {
   "cell_type": "code",
   "execution_count": null,
   "metadata": {},
   "outputs": [],
   "source": []
  }
 ],
 "metadata": {
  "kernelspec": {
   "display_name": "Python 3",
   "language": "python",
   "name": "python3"
  },
  "language_info": {
   "codemirror_mode": {
    "name": "ipython",
    "version": 3
   },
   "file_extension": ".py",
   "mimetype": "text/x-python",
   "name": "python",
   "nbconvert_exporter": "python",
   "pygments_lexer": "ipython3",
   "version": "3.7.7"
  },
  "toc": {
   "base_numbering": 1,
   "nav_menu": {},
   "number_sections": true,
   "sideBar": true,
   "skip_h1_title": false,
   "title_cell": "Table of Contents",
   "title_sidebar": "Contents",
   "toc_cell": false,
   "toc_position": {},
   "toc_section_display": true,
   "toc_window_display": false
  },
  "varInspector": {
   "cols": {
    "lenName": 16,
    "lenType": 16,
    "lenVar": 40
   },
   "kernels_config": {
    "python": {
     "delete_cmd_postfix": "",
     "delete_cmd_prefix": "del ",
     "library": "var_list.py",
     "varRefreshCmd": "print(var_dic_list())"
    },
    "r": {
     "delete_cmd_postfix": ") ",
     "delete_cmd_prefix": "rm(",
     "library": "var_list.r",
     "varRefreshCmd": "cat(var_dic_list()) "
    }
   },
   "types_to_exclude": [
    "module",
    "function",
    "builtin_function_or_method",
    "instance",
    "_Feature"
   ],
   "window_display": false
  }
 },
 "nbformat": 4,
 "nbformat_minor": 2
}
